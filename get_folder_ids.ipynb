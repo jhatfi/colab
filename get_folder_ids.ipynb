{
  "nbformat": 4,
  "nbformat_minor": 0,
  "metadata": {
    "colab": {
      "provenance": [],
      "include_colab_link": true
    },
    "kernelspec": {
      "name": "python3",
      "display_name": "Python 3"
    },
    "language_info": {
      "name": "python"
    }
  },
  "cells": [
    {
      "cell_type": "markdown",
      "metadata": {
        "id": "view-in-github",
        "colab_type": "text"
      },
      "source": [
        "<a href=\"https://colab.research.google.com/github/jhatfi/colab/blob/main/get_folder_ids.ipynb\" target=\"_parent\"><img src=\"https://colab.research.google.com/assets/colab-badge.svg\" alt=\"Open In Colab\"/></a>"
      ]
    },
    {
      "cell_type": "markdown",
      "source": [
        "This notebook finds google drive ids for PB data and produces a spreadsheet."
      ],
      "metadata": {
        "id": "S89j5LnUXDQi"
      }
    },
    {
      "cell_type": "code",
      "source": [
        "# it appears that this install is no longer needed\n",
        "# !pip install google-auth google-auth-oauthlib google-auth-httplib2 google-api-python-client\n"
      ],
      "metadata": {
        "id": "EgZE616VXAkT"
      },
      "execution_count": null,
      "outputs": []
    },
    {
      "cell_type": "code",
      "source": [
        "from google.colab import auth\n",
        "from googleapiclient.discovery import build"
      ],
      "metadata": {
        "id": "-g5kTQ30XAkb"
      },
      "execution_count": null,
      "outputs": []
    },
    {
      "cell_type": "code",
      "source": [
        "auth.authenticate_user()"
      ],
      "metadata": {
        "id": "Jhpvd6-6XAkb"
      },
      "execution_count": null,
      "outputs": []
    },
    {
      "cell_type": "code",
      "source": [
        "service = build('drive', 'v3')"
      ],
      "metadata": {
        "id": "0bO7L9ikXAkb"
      },
      "execution_count": null,
      "outputs": []
    },
    {
      "cell_type": "code",
      "source": [
        "def list_folders(folder_id, service):\n",
        "    \"\"\"Retrieves a list of all folders under the specified folder ID\n",
        "    recursively using the Google Drive API.\n",
        "    \"\"\"\n",
        "    # Build the query to retrieve all subfolders under the specified folder ID\n",
        "    query = \"mimeType='application/vnd.google-apps.folder' and trashed = false and parents in '\"+folder_id+\"'\"\n",
        "    # Use the files().list() method to retrieve the list of subfolders\n",
        "    results = service.files().list(q=query,fields=\"nextPageToken, files(id, name)\").execute()\n",
        "    items = results.get('files', [])\n",
        "    # Initialize an empty list to store the folder information\n",
        "    folders = []\n",
        "    # Iterate through the list of subfolders and call the function recursively\n",
        "    for item in items:\n",
        "        folders.append({'id': item['id'], 'name': item['name']})\n",
        "        folders.extend(list_folders(item['id'], service))\n",
        "    return folders"
      ],
      "metadata": {
        "id": "NaT5r5mnxxSP"
      },
      "execution_count": null,
      "outputs": []
    },
    {
      "cell_type": "code",
      "source": [
        "# Base folder: FactGrid \"15RC0mYEaXAk1xYaP8nDMq_82KbkZtNMs\"\n",
        "# (I found that folder ID using the web interface)\n",
        "folders = list_folders('15RC0mYEaXAk1xYaP8nDMq_82KbkZtNMs', service)\n",
        "deprecated_folder = list_folders('1WIlpJLUZivSDI7UG_xv2_hwXg7kn3NbB', service)\n"
      ],
      "metadata": {
        "id": "UHZQacbUrVeW"
      },
      "execution_count": null,
      "outputs": []
    },
    {
      "cell_type": "code",
      "source": [
        "len(folders)\n"
      ],
      "metadata": {
        "colab": {
          "base_uri": "https://localhost:8080/"
        },
        "id": "NJW63m86yjLq",
        "outputId": "1f2b9371-98c5-4793-af42-0cf9cc71bbe0"
      },
      "execution_count": null,
      "outputs": [
        {
          "output_type": "execute_result",
          "data": {
            "text/plain": [
              "138"
            ]
          },
          "metadata": {},
          "execution_count": 31
        }
      ]
    },
    {
      "cell_type": "code",
      "source": [
        "# omitting deprecated CSV folders\n",
        "deprecated_ids = [f['id'] for f in deprecated_folder]\n",
        "parent_ids = [f['id'] for f in folders if f['id'] not in deprecated_ids]\n",
        "parents_clause = ' or '.join([f\"parents in '{p}'\" for p in parent_ids])\n",
        "# modify this extraction date to match the most recent\n",
        "EXTRACTION_DATE='2024-09-15'\n",
        "query = f\"name contains '{EXTRACTION_DATE}' and mimeType='text/csv' and trashed = false and ({parents_clause})\"\n",
        "query"
      ],
      "metadata": {
        "id": "6iUPJ17JyEun",
        "colab": {
          "base_uri": "https://localhost:8080/",
          "height": 1000
        },
        "outputId": "e9cf9b10-dc86-4a77-b969-53a0ba0f7ca3"
      },
      "execution_count": null,
      "outputs": [
        {
          "output_type": "execute_result",
          "data": {
            "text/plain": [
              "\"name contains '2024-09-15' and mimeType='text/csv' and trashed = false and (parents in '1BHaaOlt0DOvEclzXLePXQxP7TE-u8IMt' or parents in '1ov6yTdnM4OtwiRR13NYbVjZnA9Kci7pn' or parents in '1FRZSgOHLFQuazg2KhlUrXKa3nUG4HgL4' or parents in '10EENaYaT3llQMNTv8tCkpBxmi83cUZAB' or parents in '11E-XbIWF6IF2PavqoEcKlAQhCmNGmst-' or parents in '1pV-Y35hTKSjwPKjtSIXh7lbyHhmjNEDX' or parents in '1wfT2qKHhNuQVougqg3EPUWhDhgcEJKTW' or parents in '1mkXz52FgJfLkA48LP2b-Dv3O5nYcMbv3' or parents in '1lJnt6NsGqSxZNfkRz86e_MkDDkzSuuC8' or parents in '1IDmqANdeS-RAYOmwhw657irWsUKnU_YB' or parents in '1hADE1K1c8sUBJErZpG9_vJrUKtPxDBOF' or parents in '12WbvJ36xGt2YiNzjKjZR7vLNtEy3Bjmw' or parents in '1D0r5nSjYGLV7CEo2FveV6QlEpQtsp8By' or parents in '1eWJXN5qDEJi8nG0Gnvg1gRnKYkKijAyh' or parents in '1EOdFKc7NRetEc4Kuh3tL6T8p0RD4Cicv' or parents in '1FK-M5xAyYLhKqA2lvZeA5DCHqezVlkC0' or parents in '1OfM_k-wEFGYOVx7BUJgsNixmxbSN8o9q' or parents in '12cOeaJTRywzbgZwOLCOVnpdMUSXUruc6' or parents in '1D7QwFbqKs1MJgynQWWx5P4EgLlKSupy6' or parents in '1kz2JUfHpN03Vp1iBSrWZXLFP7utXrTsG' or parents in '1R2Zm65zxlFMSNNU3tfH8j8Dzno5ECcjq' or parents in '1XvmnXRLan1KWr02w--ku2qQG2qaSIQQT' or parents in '1WhX_3zx0uyNMVrWCQaTOTfsf6M-zRGkY' or parents in '1lmb7CHMB5-x7eNT9UEiRrY6kVhxG6w2h' or parents in '1aAZS9pRXRiPE_vDDnfOIEJat5FwWUXW-' or parents in '14By-WuH0ruTiW8Iaryuk-632Z0Yn0t2u' or parents in '1WI_kkkstDjDBUmvLi2yBhwc-IJyqge05' or parents in '1rcAoBEESd9-hFbfITkhPbpWZdVag5mQU' or parents in '1q0MgyClngzbcwhh98kr8Nv2gLvfyqi2R' or parents in '16D1fKFriV0QScmElgfBCBKeQbMj2RUnO' or parents in '1bRC0wNDW14jQxzCmEAVaXiPTwHHkvJQ-' or parents in '1fSKv-HWUNHvSpw_28sX1Fo6YFCvqqusz' or parents in '1nuQH8LufjpQEgMGuHXJPP9V4dtYGg_Vj' or parents in '1-c8B731-f0zC3MxfM8r5FpHWZG-2cGoj' or parents in '1LbfNy-6IFCjQUNSqN3BiPwEYwThDcemm' or parents in '17Y7jiLek5ugpFQN2Fgof2N2JlGBDOmZq' or parents in '1eAS5IzM7Se48M4Qi9fCjctqiIq36gdjL' or parents in '1_r2UG-vWXdtLrl33xtbQPh8VlPKCfh37' or parents in '17cFohC77uWLAtu8VBOIHC5lHTOkL_nd9' or parents in '1kVlC50NqDZNa55b-dugnRuyMl5FHJWD1' or parents in '1jFtuuE22zmMaoIOfomDLOnPBZqKupZQc' or parents in '14WelGwM8vSRZ1wGyezx_U0ySJoLUd_XM' or parents in '13EY_hpxZl8a0HIrsl-OUSWCBTYfkHiPn' or parents in '13AALe5patT24hCTyJeAlW-qfaM2hEFqg' or parents in '1HYTibyeinPkCtEKoyR92KLFvDpodScQH' or parents in '1O-7tP5Fmm1LPtEAnvbJlgcVsKtd6uMvX' or parents in '1GRV5lBYsbkGhxNC9M8qagb6Qlj9_A8gX' or parents in '1GPd3FYW8KYj4AuacTFsMJPGj0Vn9Vcwv' or parents in '115pNT9ue480HAr996XbGRwWCLHFJK_V_' or parents in '1nwwRmmW-XYgq0Rd0RFAxjIgDlJpupPAs' or parents in '1efJDT_HJoIsrRBw1bySuIke6n3xaSTyt' or parents in '15qA2wrIJ-CjHBSRCX7dK2oOXORwk88QM' or parents in '187KTNwJ2LZXf5d8WAFO1qnP6g8Yqderw' or parents in '1lc-XTCm9lSAfO6xIxxQ5K_4LzHhj3nPl' or parents in '1s4CDp4kWdC2G4cIGmT1xQ1ok1MD6BZBO' or parents in '1oibmB3rD26ehE0onhzWquYvuDtUoxUkL' or parents in '1nmK1Ien3hdK1RcLp3Q4w8Zcsl3EawwOF' or parents in '1HuAKwxr6oIBL86kzPiLOBQP-Ad5OnLPr' or parents in '1PKgYF_B4WoN0XaAZYWFTeCb93qpGSl0d' or parents in '1hKskJoNMVA_CVUmQaLsS6Of3flaXyChW' or parents in '1Unbjp7tXKtvZMFYJqNQsNETnz-zXYQay' or parents in '1gi40weITExfodrtPqHny0HH72tGGHVoi' or parents in '1_VDZG4lVyR2SACPYNBfXDsZ7As7GnMlX' or parents in '1InOMCx4Lyd0e-D7zEap9spnFmuThkU6C' or parents in '1l2S_-g1wV3e92RQOJaKFpyLP_d5FGubH' or parents in '17dwDpRmi1OLTqzfGtx7c4V4Z7-LEzMqd' or parents in '1lrzUp_SuLPDacFcGXzH8rSgj6tILUGKV' or parents in '1K7PUaxKhhUJC3ty1FvryA7_49FQckFzO' or parents in '1PJLFLzX37Ia7Nox62gSuDA1DdutVTITx' or parents in '1dGMRttxDj0Iv8PpOCPK1Mi_OJOM3aToU' or parents in '1IKkOtxrDmqMRRbhui78_6nx_sHi49pun' or parents in '1ziaBGMS-FE5Jub2xOD_urDgLNxUOm24w' or parents in '1leCARcxiu64b-X9r2IM2so2mclqnNxsu' or parents in '1878Y5pRvNpbYc4NUp78c80AAAiCLmzFs' or parents in '1fbUX-kYlrRSz2hdAXD0BaXdnUfVfboYM' or parents in '1RKxxPfGtYVIyDbB09tY-Z_tE9OBttOzm' or parents in '1y60gyLqFMUmXvwXU-ZhMFGKIU9wzkBj2' or parents in '1j34su-2HJyicBYk5WFoSn21t9bcDo-B3' or parents in '167SumALWLmxm2Bmm4DFysUox8xEO72qd' or parents in '1WIlpJLUZivSDI7UG_xv2_hwXg7kn3NbB' or parents in '1jskCgZuP2z7rw66XJoUiTSH3UJF69IPL' or parents in '1qHIcMAUfN5rA-RItyVZBlnt9Wnx3z23k' or parents in '11_S9f6EYVAILDg1vlo3G-wbNOj2887dX' or parents in '1mHB_KyiQatDkjzvXn0J7IJsUxxo63niZ' or parents in '19wl5oHCCkSX6RQHo9V99uH1TZjrAMTuk' or parents in '1kcJ2kC4LyypBpCu8fQdrK9PEABDIHXDX' or parents in '1NLTdskgol3lvt16nnWQWSde2wYpyR-ow' or parents in '1fWjLmEb3b_5TKgMDyRj7LlfJQ8SYXPhv' or parents in '1B0vjj2KbtPW19GJAxIp0YkqHBC2ygmaI' or parents in '1lOeYxXyZ8Brqp5Aa0K0qah_fu9AXhfuz' or parents in '1Kr8hO_S1rkd_lpI2TfaNWPbJlCaBDJeJ' or parents in '0B-vQicCVL7e4anRTQXNrQk5UdzQ' or parents in '1iCOBVM1blcK5DxUh0AXDx93hjVvx7iR1' or parents in '1h9mRuN5zI4rLRt5EQzTbI3rmzyAxFJUl' or parents in '1U8e72fUFp5cZE0mdc9nWf8RnS4jQs7Gs' or parents in '1olDiJ2G60nLRPI-rRFCgFJEcoh7x72kQ' or parents in '1SSA0a_VQatlVtmTjpDjvTasKBQ6kzjFC' or parents in '1QdIN19NDZV-0XK9bK5hqqbbxR4IHFiUj' or parents in '11rgsPCHeS4oACVW0fbdWtftgJjXLj-kQ' or parents in '10ktXwA898dUQWpAT_CB_BKX9rrF0994P' or parents in '1CYh2RdD4jT0vBVvP4BRVVQiEdKqHAMPj' or parents in '1JTBiJiTuKYseqAvx8v4eyceOlDuvAmCo' or parents in '1JYmCPZGczXkqCWTgZYxT8vsimAmTydW2' or parents in '1KKzVxGKbebDzYzgMetSvr1M8_f6oYMXo' or parents in '1CiGHRS_n25Ultv3Uim8lw_VWS5xCAlhy' or parents in '10hzZaPW75fTzlnbmi85koRk6j_WvXkja' or parents in '1_xN9aMqmZI_CLzQ1msllh885v5kK3hP1' or parents in '1-JzLUBN1c4kcaMq3yaUP-0wn39FJ5sw6' or parents in '1ce6j1sMfKAjJZZ6OYnyyH0I5TDfoQQg8' or parents in '1-sIyGGZmBZlaG4IK1-g7Q5OHl0IdeGDh' or parents in '1InQ0dBx7E_eaqNhJbhEEbTf3yEH15_qf' or parents in '13K4NsjzDBeGkXNSZ85twXiZrT5SeMIDC' or parents in '1X3RHzCBRloD33rMQBksvqh6WYAa8qoTh' or parents in '1E_bov8THoD72J0dbzs1fs9jFjafnKIph' or parents in '1MEOp6jGStCgDIMnxu5a9jTdNBH7jlYDw' or parents in '15h7xr9oCBiT2jqWopDSqRpbHcwwolJuC' or parents in '1CDGEcU6RNhFdaeHCwwfN-ctkl5z-w-Jn' or parents in '1yoO2cCNwBA-E6DeE4582sFqvufGZ7C_t' or parents in '1opswdJeI3xsbGuRdgLRqk9qXN1UrVRLh' or parents in '12NsPZkEIDoZaxZyoZRIOhLj0_AZPvgTg' or parents in '1lcoQIb-NP-pk4iOEateVU4dBND_kpsny' or parents in '10zErZWTZQzRnn09rxIhL-AEPSimfxco_' or parents in '1wRkAvi1lnWMomdz4mIzlL0mvMtWQvqt8' or parents in '1BGsCKOKNsk7Msc9EsvXoPknI0MVcFUz2' or parents in '17UGG79AckfOTAfd5l9Vnd2ZTBmP4yUTV' or parents in '1lnWNt7sgFA7zkV5UAyDK72xG_C-QIYz-' or parents in '1xc0t6wDPIW1UG3asMXiq5QdS80XioUmj')\""
            ],
            "application/vnd.google.colaboratory.intrinsic+json": {
              "type": "string"
            }
          },
          "metadata": {},
          "execution_count": 32
        }
      ]
    },
    {
      "cell_type": "code",
      "source": [
        "results = service.files().list(q=query,fields=\"nextPageToken, files(id, name, mimeType)\").execute()\n",
        "items = results.get('files', [])\n",
        "items"
      ],
      "metadata": {
        "colab": {
          "base_uri": "https://localhost:8080/"
        },
        "id": "Zhh27YyA1Woi",
        "outputId": "fa3034eb-ecb6-4a8b-9599-02476007b65a"
      },
      "execution_count": null,
      "outputs": [
        {
          "output_type": "execute_result",
          "data": {
            "text/plain": [
              "[{'mimeType': 'text/csv',\n",
              "  'id': '1a9Fbj_88-MOOR28AdtsE_sbaGbsQsRC1',\n",
              "  'name': 'BETA - SUBJECT - 2024-09-15.CSV'}]"
            ]
          },
          "metadata": {},
          "execution_count": 33
        }
      ]
    },
    {
      "cell_type": "code",
      "source": [
        "len(items)"
      ],
      "metadata": {
        "colab": {
          "base_uri": "https://localhost:8080/"
        },
        "id": "R87RramD_Jjy",
        "outputId": "f5d97ca7-1a79-4122-96db-308e44b02b2b"
      },
      "execution_count": null,
      "outputs": [
        {
          "output_type": "execute_result",
          "data": {
            "text/plain": [
              "1"
            ]
          },
          "metadata": {},
          "execution_count": 34
        }
      ]
    },
    {
      "cell_type": "code",
      "source": [
        "import pandas as pd"
      ],
      "metadata": {
        "id": "OaJeRqUiL-7_"
      },
      "execution_count": null,
      "outputs": []
    },
    {
      "cell_type": "code",
      "source": [
        "df = pd.DataFrame(items)"
      ],
      "metadata": {
        "id": "GjVuXI2uiHuB"
      },
      "execution_count": null,
      "outputs": []
    },
    {
      "cell_type": "code",
      "source": [
        "df"
      ],
      "metadata": {
        "colab": {
          "base_uri": "https://localhost:8080/",
          "height": 170
        },
        "id": "ZiZnu2S7iUJn",
        "outputId": "abfc48d0-d16b-43eb-8b53-d541081b3b38"
      },
      "execution_count": null,
      "outputs": [
        {
          "output_type": "execute_result",
          "data": {
            "text/plain": [
              "   mimeType                                 id  \\\n",
              "0  text/csv  1a9Fbj_88-MOOR28AdtsE_sbaGbsQsRC1   \n",
              "\n",
              "                              name  \n",
              "0  BETA - SUBJECT - 2024-09-15.CSV  "
            ],
            "text/html": [
              "\n",
              "  <div id=\"df-b99e2dd4-4cc5-4861-b8ae-721f8f2afacb\" class=\"colab-df-container\">\n",
              "    <div>\n",
              "<style scoped>\n",
              "    .dataframe tbody tr th:only-of-type {\n",
              "        vertical-align: middle;\n",
              "    }\n",
              "\n",
              "    .dataframe tbody tr th {\n",
              "        vertical-align: top;\n",
              "    }\n",
              "\n",
              "    .dataframe thead th {\n",
              "        text-align: right;\n",
              "    }\n",
              "</style>\n",
              "<table border=\"1\" class=\"dataframe\">\n",
              "  <thead>\n",
              "    <tr style=\"text-align: right;\">\n",
              "      <th></th>\n",
              "      <th>mimeType</th>\n",
              "      <th>id</th>\n",
              "      <th>name</th>\n",
              "    </tr>\n",
              "  </thead>\n",
              "  <tbody>\n",
              "    <tr>\n",
              "      <th>0</th>\n",
              "      <td>text/csv</td>\n",
              "      <td>1a9Fbj_88-MOOR28AdtsE_sbaGbsQsRC1</td>\n",
              "      <td>BETA - SUBJECT - 2024-09-15.CSV</td>\n",
              "    </tr>\n",
              "  </tbody>\n",
              "</table>\n",
              "</div>\n",
              "    <div class=\"colab-df-buttons\">\n",
              "\n",
              "  <div class=\"colab-df-container\">\n",
              "    <button class=\"colab-df-convert\" onclick=\"convertToInteractive('df-b99e2dd4-4cc5-4861-b8ae-721f8f2afacb')\"\n",
              "            title=\"Convert this dataframe to an interactive table.\"\n",
              "            style=\"display:none;\">\n",
              "\n",
              "  <svg xmlns=\"http://www.w3.org/2000/svg\" height=\"24px\" viewBox=\"0 -960 960 960\">\n",
              "    <path d=\"M120-120v-720h720v720H120Zm60-500h600v-160H180v160Zm220 220h160v-160H400v160Zm0 220h160v-160H400v160ZM180-400h160v-160H180v160Zm440 0h160v-160H620v160ZM180-180h160v-160H180v160Zm440 0h160v-160H620v160Z\"/>\n",
              "  </svg>\n",
              "    </button>\n",
              "\n",
              "  <style>\n",
              "    .colab-df-container {\n",
              "      display:flex;\n",
              "      gap: 12px;\n",
              "    }\n",
              "\n",
              "    .colab-df-convert {\n",
              "      background-color: #E8F0FE;\n",
              "      border: none;\n",
              "      border-radius: 50%;\n",
              "      cursor: pointer;\n",
              "      display: none;\n",
              "      fill: #1967D2;\n",
              "      height: 32px;\n",
              "      padding: 0 0 0 0;\n",
              "      width: 32px;\n",
              "    }\n",
              "\n",
              "    .colab-df-convert:hover {\n",
              "      background-color: #E2EBFA;\n",
              "      box-shadow: 0px 1px 2px rgba(60, 64, 67, 0.3), 0px 1px 3px 1px rgba(60, 64, 67, 0.15);\n",
              "      fill: #174EA6;\n",
              "    }\n",
              "\n",
              "    .colab-df-buttons div {\n",
              "      margin-bottom: 4px;\n",
              "    }\n",
              "\n",
              "    [theme=dark] .colab-df-convert {\n",
              "      background-color: #3B4455;\n",
              "      fill: #D2E3FC;\n",
              "    }\n",
              "\n",
              "    [theme=dark] .colab-df-convert:hover {\n",
              "      background-color: #434B5C;\n",
              "      box-shadow: 0px 1px 3px 1px rgba(0, 0, 0, 0.15);\n",
              "      filter: drop-shadow(0px 1px 2px rgba(0, 0, 0, 0.3));\n",
              "      fill: #FFFFFF;\n",
              "    }\n",
              "  </style>\n",
              "\n",
              "    <script>\n",
              "      const buttonEl =\n",
              "        document.querySelector('#df-b99e2dd4-4cc5-4861-b8ae-721f8f2afacb button.colab-df-convert');\n",
              "      buttonEl.style.display =\n",
              "        google.colab.kernel.accessAllowed ? 'block' : 'none';\n",
              "\n",
              "      async function convertToInteractive(key) {\n",
              "        const element = document.querySelector('#df-b99e2dd4-4cc5-4861-b8ae-721f8f2afacb');\n",
              "        const dataTable =\n",
              "          await google.colab.kernel.invokeFunction('convertToInteractive',\n",
              "                                                    [key], {});\n",
              "        if (!dataTable) return;\n",
              "\n",
              "        const docLinkHtml = 'Like what you see? Visit the ' +\n",
              "          '<a target=\"_blank\" href=https://colab.research.google.com/notebooks/data_table.ipynb>data table notebook</a>'\n",
              "          + ' to learn more about interactive tables.';\n",
              "        element.innerHTML = '';\n",
              "        dataTable['output_type'] = 'display_data';\n",
              "        await google.colab.output.renderOutput(dataTable, element);\n",
              "        const docLink = document.createElement('div');\n",
              "        docLink.innerHTML = docLinkHtml;\n",
              "        element.appendChild(docLink);\n",
              "      }\n",
              "    </script>\n",
              "  </div>\n",
              "\n",
              "\n",
              "  <div id=\"id_df8bb3d4-fe87-4d6c-a7d6-fdb6891b551b\">\n",
              "    <style>\n",
              "      .colab-df-generate {\n",
              "        background-color: #E8F0FE;\n",
              "        border: none;\n",
              "        border-radius: 50%;\n",
              "        cursor: pointer;\n",
              "        display: none;\n",
              "        fill: #1967D2;\n",
              "        height: 32px;\n",
              "        padding: 0 0 0 0;\n",
              "        width: 32px;\n",
              "      }\n",
              "\n",
              "      .colab-df-generate:hover {\n",
              "        background-color: #E2EBFA;\n",
              "        box-shadow: 0px 1px 2px rgba(60, 64, 67, 0.3), 0px 1px 3px 1px rgba(60, 64, 67, 0.15);\n",
              "        fill: #174EA6;\n",
              "      }\n",
              "\n",
              "      [theme=dark] .colab-df-generate {\n",
              "        background-color: #3B4455;\n",
              "        fill: #D2E3FC;\n",
              "      }\n",
              "\n",
              "      [theme=dark] .colab-df-generate:hover {\n",
              "        background-color: #434B5C;\n",
              "        box-shadow: 0px 1px 3px 1px rgba(0, 0, 0, 0.15);\n",
              "        filter: drop-shadow(0px 1px 2px rgba(0, 0, 0, 0.3));\n",
              "        fill: #FFFFFF;\n",
              "      }\n",
              "    </style>\n",
              "    <button class=\"colab-df-generate\" onclick=\"generateWithVariable('df')\"\n",
              "            title=\"Generate code using this dataframe.\"\n",
              "            style=\"display:none;\">\n",
              "\n",
              "  <svg xmlns=\"http://www.w3.org/2000/svg\" height=\"24px\"viewBox=\"0 0 24 24\"\n",
              "       width=\"24px\">\n",
              "    <path d=\"M7,19H8.4L18.45,9,17,7.55,7,17.6ZM5,21V16.75L18.45,3.32a2,2,0,0,1,2.83,0l1.4,1.43a1.91,1.91,0,0,1,.58,1.4,1.91,1.91,0,0,1-.58,1.4L9.25,21ZM18.45,9,17,7.55Zm-12,3A5.31,5.31,0,0,0,4.9,8.1,5.31,5.31,0,0,0,1,6.5,5.31,5.31,0,0,0,4.9,4.9,5.31,5.31,0,0,0,6.5,1,5.31,5.31,0,0,0,8.1,4.9,5.31,5.31,0,0,0,12,6.5,5.46,5.46,0,0,0,6.5,12Z\"/>\n",
              "  </svg>\n",
              "    </button>\n",
              "    <script>\n",
              "      (() => {\n",
              "      const buttonEl =\n",
              "        document.querySelector('#id_df8bb3d4-fe87-4d6c-a7d6-fdb6891b551b button.colab-df-generate');\n",
              "      buttonEl.style.display =\n",
              "        google.colab.kernel.accessAllowed ? 'block' : 'none';\n",
              "\n",
              "      buttonEl.onclick = () => {\n",
              "        google.colab.notebook.generateWithVariable('df');\n",
              "      }\n",
              "      })();\n",
              "    </script>\n",
              "  </div>\n",
              "\n",
              "    </div>\n",
              "  </div>\n"
            ],
            "application/vnd.google.colaboratory.intrinsic+json": {
              "type": "dataframe",
              "variable_name": "df",
              "summary": "{\n  \"name\": \"df\",\n  \"rows\": 1,\n  \"fields\": [\n    {\n      \"column\": \"mimeType\",\n      \"properties\": {\n        \"dtype\": \"string\",\n        \"num_unique_values\": 1,\n        \"samples\": [\n          \"text/csv\"\n        ],\n        \"semantic_type\": \"\",\n        \"description\": \"\"\n      }\n    },\n    {\n      \"column\": \"id\",\n      \"properties\": {\n        \"dtype\": \"string\",\n        \"num_unique_values\": 1,\n        \"samples\": [\n          \"1a9Fbj_88-MOOR28AdtsE_sbaGbsQsRC1\"\n        ],\n        \"semantic_type\": \"\",\n        \"description\": \"\"\n      }\n    },\n    {\n      \"column\": \"name\",\n      \"properties\": {\n        \"dtype\": \"string\",\n        \"num_unique_values\": 1,\n        \"samples\": [\n          \"BETA - SUBJECT - 2024-09-15.CSV\"\n        ],\n        \"semantic_type\": \"\",\n        \"description\": \"\"\n      }\n    }\n  ]\n}"
            }
          },
          "metadata": {},
          "execution_count": 37
        }
      ]
    },
    {
      "cell_type": "code",
      "source": [
        "def extract_bib(s):\n",
        "  r = None\n",
        "  for bib in ['BETA', 'BITECA', 'BITAGAP']:\n",
        "    if bib in s:\n",
        "      r = bib\n",
        "  return r\n",
        "\n",
        "def extract_table(s):\n",
        "  r = None\n",
        "  for tab in [('ANALYTIC', 'ANA'), ('BIBLIOGRAPHY', 'BIB'),\n",
        "              ('BIOGRAPHY', 'BIO'), ('COPIES', 'COP'),\n",
        "              ('GEOGRAPHY', 'GEO'), ('INSTITUTIONS', 'INS'),\n",
        "              ('LIBRARY', 'LIB'), ('MS_ED', 'MAN'),\n",
        "              ('SUBJECT', 'SUB'), ('UNIFORM_TITLE', 'UNI')]:\n",
        "    for tname in tab:\n",
        "      if tname in s:\n",
        "        r = tab[-1]\n",
        "  return r\n",
        "\n"
      ],
      "metadata": {
        "id": "V9xn9mmMirJd"
      },
      "execution_count": null,
      "outputs": []
    },
    {
      "cell_type": "code",
      "source": [
        "def classify_pb_csv(name):\n",
        "  if 'Data Dictionary' in name:\n",
        "    t = 'datadict'\n",
        "    bib = 'ALL'\n",
        "    tab = extract_table(name)\n",
        "  elif 'DATACLIPS' in name:\n",
        "    t = 'dataclip'\n",
        "    bib = extract_bib(name)\n",
        "    tab = 'ALL'\n",
        "  else:\n",
        "    t = 'table'\n",
        "    bib = extract_bib(name)\n",
        "    tab = extract_table(name)\n",
        "  return (t, bib, tab)\n",
        "\n"
      ],
      "metadata": {
        "id": "u_9O3a-0wsU-"
      },
      "execution_count": null,
      "outputs": []
    },
    {
      "cell_type": "code",
      "source": [
        "classify_pb_csv('BETA - ANALYTIC - 2022-12-28.CSV')"
      ],
      "metadata": {
        "colab": {
          "base_uri": "https://localhost:8080/"
        },
        "id": "4pH19KiTxvsb",
        "outputId": "eb417648-0356-4739-86b1-5180dad85c43"
      },
      "execution_count": null,
      "outputs": [
        {
          "output_type": "execute_result",
          "data": {
            "text/plain": [
              "('table', 'BETA', 'ANA')"
            ]
          },
          "metadata": {},
          "execution_count": 40
        }
      ]
    },
    {
      "cell_type": "code",
      "source": [
        "classify_pb_csv('BETA - DATACLIPS - 2022-12-28.CSV')"
      ],
      "metadata": {
        "colab": {
          "base_uri": "https://localhost:8080/"
        },
        "id": "sXofdKdVx2hu",
        "outputId": "b8b348b9-4a7e-476a-af5f-fe6bfc638845"
      },
      "execution_count": null,
      "outputs": [
        {
          "output_type": "execute_result",
          "data": {
            "text/plain": [
              "('dataclip', 'BETA', 'ALL')"
            ]
          },
          "metadata": {},
          "execution_count": 41
        }
      ]
    },
    {
      "cell_type": "code",
      "source": [
        "classify_pb_csv('Data Dictionary - BIO - 2022-12-28.csv')"
      ],
      "metadata": {
        "colab": {
          "base_uri": "https://localhost:8080/"
        },
        "id": "y1HikE45yIVA",
        "outputId": "2981581c-9c0a-433e-ea2d-a311611c1580"
      },
      "execution_count": null,
      "outputs": [
        {
          "output_type": "execute_result",
          "data": {
            "text/plain": [
              "('datadict', 'ALL', 'BIO')"
            ]
          },
          "metadata": {},
          "execution_count": 42
        }
      ]
    },
    {
      "cell_type": "code",
      "source": [
        "def classify_pb_csv_row(row):\n",
        "  t, bib, tab = classify_pb_csv(row['name'])\n",
        "  row['type'] = t\n",
        "  row['bib'] = bib\n",
        "  row['tab'] = tab\n",
        "  return row\n",
        "\n"
      ],
      "metadata": {
        "id": "i3uw0fGUyXuh"
      },
      "execution_count": null,
      "outputs": []
    },
    {
      "cell_type": "code",
      "source": [
        "df = df.apply(classify_pb_csv_row, axis=1)"
      ],
      "metadata": {
        "id": "DzQiIrFHzwxX"
      },
      "execution_count": null,
      "outputs": []
    },
    {
      "cell_type": "code",
      "source": [
        "df"
      ],
      "metadata": {
        "colab": {
          "base_uri": "https://localhost:8080/",
          "height": 170
        },
        "id": "gRIbNApyz6dF",
        "outputId": "bc66c1e9-b849-477b-e0bc-e2ad8b271875"
      },
      "execution_count": null,
      "outputs": [
        {
          "output_type": "execute_result",
          "data": {
            "text/plain": [
              "   mimeType                                 id  \\\n",
              "0  text/csv  1a9Fbj_88-MOOR28AdtsE_sbaGbsQsRC1   \n",
              "\n",
              "                              name   type   bib  tab  \n",
              "0  BETA - SUBJECT - 2024-09-15.CSV  table  BETA  SUB  "
            ],
            "text/html": [
              "\n",
              "  <div id=\"df-7b407d55-8b7e-4244-9e04-2208f33c0972\" class=\"colab-df-container\">\n",
              "    <div>\n",
              "<style scoped>\n",
              "    .dataframe tbody tr th:only-of-type {\n",
              "        vertical-align: middle;\n",
              "    }\n",
              "\n",
              "    .dataframe tbody tr th {\n",
              "        vertical-align: top;\n",
              "    }\n",
              "\n",
              "    .dataframe thead th {\n",
              "        text-align: right;\n",
              "    }\n",
              "</style>\n",
              "<table border=\"1\" class=\"dataframe\">\n",
              "  <thead>\n",
              "    <tr style=\"text-align: right;\">\n",
              "      <th></th>\n",
              "      <th>mimeType</th>\n",
              "      <th>id</th>\n",
              "      <th>name</th>\n",
              "      <th>type</th>\n",
              "      <th>bib</th>\n",
              "      <th>tab</th>\n",
              "    </tr>\n",
              "  </thead>\n",
              "  <tbody>\n",
              "    <tr>\n",
              "      <th>0</th>\n",
              "      <td>text/csv</td>\n",
              "      <td>1a9Fbj_88-MOOR28AdtsE_sbaGbsQsRC1</td>\n",
              "      <td>BETA - SUBJECT - 2024-09-15.CSV</td>\n",
              "      <td>table</td>\n",
              "      <td>BETA</td>\n",
              "      <td>SUB</td>\n",
              "    </tr>\n",
              "  </tbody>\n",
              "</table>\n",
              "</div>\n",
              "    <div class=\"colab-df-buttons\">\n",
              "\n",
              "  <div class=\"colab-df-container\">\n",
              "    <button class=\"colab-df-convert\" onclick=\"convertToInteractive('df-7b407d55-8b7e-4244-9e04-2208f33c0972')\"\n",
              "            title=\"Convert this dataframe to an interactive table.\"\n",
              "            style=\"display:none;\">\n",
              "\n",
              "  <svg xmlns=\"http://www.w3.org/2000/svg\" height=\"24px\" viewBox=\"0 -960 960 960\">\n",
              "    <path d=\"M120-120v-720h720v720H120Zm60-500h600v-160H180v160Zm220 220h160v-160H400v160Zm0 220h160v-160H400v160ZM180-400h160v-160H180v160Zm440 0h160v-160H620v160ZM180-180h160v-160H180v160Zm440 0h160v-160H620v160Z\"/>\n",
              "  </svg>\n",
              "    </button>\n",
              "\n",
              "  <style>\n",
              "    .colab-df-container {\n",
              "      display:flex;\n",
              "      gap: 12px;\n",
              "    }\n",
              "\n",
              "    .colab-df-convert {\n",
              "      background-color: #E8F0FE;\n",
              "      border: none;\n",
              "      border-radius: 50%;\n",
              "      cursor: pointer;\n",
              "      display: none;\n",
              "      fill: #1967D2;\n",
              "      height: 32px;\n",
              "      padding: 0 0 0 0;\n",
              "      width: 32px;\n",
              "    }\n",
              "\n",
              "    .colab-df-convert:hover {\n",
              "      background-color: #E2EBFA;\n",
              "      box-shadow: 0px 1px 2px rgba(60, 64, 67, 0.3), 0px 1px 3px 1px rgba(60, 64, 67, 0.15);\n",
              "      fill: #174EA6;\n",
              "    }\n",
              "\n",
              "    .colab-df-buttons div {\n",
              "      margin-bottom: 4px;\n",
              "    }\n",
              "\n",
              "    [theme=dark] .colab-df-convert {\n",
              "      background-color: #3B4455;\n",
              "      fill: #D2E3FC;\n",
              "    }\n",
              "\n",
              "    [theme=dark] .colab-df-convert:hover {\n",
              "      background-color: #434B5C;\n",
              "      box-shadow: 0px 1px 3px 1px rgba(0, 0, 0, 0.15);\n",
              "      filter: drop-shadow(0px 1px 2px rgba(0, 0, 0, 0.3));\n",
              "      fill: #FFFFFF;\n",
              "    }\n",
              "  </style>\n",
              "\n",
              "    <script>\n",
              "      const buttonEl =\n",
              "        document.querySelector('#df-7b407d55-8b7e-4244-9e04-2208f33c0972 button.colab-df-convert');\n",
              "      buttonEl.style.display =\n",
              "        google.colab.kernel.accessAllowed ? 'block' : 'none';\n",
              "\n",
              "      async function convertToInteractive(key) {\n",
              "        const element = document.querySelector('#df-7b407d55-8b7e-4244-9e04-2208f33c0972');\n",
              "        const dataTable =\n",
              "          await google.colab.kernel.invokeFunction('convertToInteractive',\n",
              "                                                    [key], {});\n",
              "        if (!dataTable) return;\n",
              "\n",
              "        const docLinkHtml = 'Like what you see? Visit the ' +\n",
              "          '<a target=\"_blank\" href=https://colab.research.google.com/notebooks/data_table.ipynb>data table notebook</a>'\n",
              "          + ' to learn more about interactive tables.';\n",
              "        element.innerHTML = '';\n",
              "        dataTable['output_type'] = 'display_data';\n",
              "        await google.colab.output.renderOutput(dataTable, element);\n",
              "        const docLink = document.createElement('div');\n",
              "        docLink.innerHTML = docLinkHtml;\n",
              "        element.appendChild(docLink);\n",
              "      }\n",
              "    </script>\n",
              "  </div>\n",
              "\n",
              "\n",
              "  <div id=\"id_8ae4d5e7-48ee-4ad8-98a9-0b7c557d007c\">\n",
              "    <style>\n",
              "      .colab-df-generate {\n",
              "        background-color: #E8F0FE;\n",
              "        border: none;\n",
              "        border-radius: 50%;\n",
              "        cursor: pointer;\n",
              "        display: none;\n",
              "        fill: #1967D2;\n",
              "        height: 32px;\n",
              "        padding: 0 0 0 0;\n",
              "        width: 32px;\n",
              "      }\n",
              "\n",
              "      .colab-df-generate:hover {\n",
              "        background-color: #E2EBFA;\n",
              "        box-shadow: 0px 1px 2px rgba(60, 64, 67, 0.3), 0px 1px 3px 1px rgba(60, 64, 67, 0.15);\n",
              "        fill: #174EA6;\n",
              "      }\n",
              "\n",
              "      [theme=dark] .colab-df-generate {\n",
              "        background-color: #3B4455;\n",
              "        fill: #D2E3FC;\n",
              "      }\n",
              "\n",
              "      [theme=dark] .colab-df-generate:hover {\n",
              "        background-color: #434B5C;\n",
              "        box-shadow: 0px 1px 3px 1px rgba(0, 0, 0, 0.15);\n",
              "        filter: drop-shadow(0px 1px 2px rgba(0, 0, 0, 0.3));\n",
              "        fill: #FFFFFF;\n",
              "      }\n",
              "    </style>\n",
              "    <button class=\"colab-df-generate\" onclick=\"generateWithVariable('df')\"\n",
              "            title=\"Generate code using this dataframe.\"\n",
              "            style=\"display:none;\">\n",
              "\n",
              "  <svg xmlns=\"http://www.w3.org/2000/svg\" height=\"24px\"viewBox=\"0 0 24 24\"\n",
              "       width=\"24px\">\n",
              "    <path d=\"M7,19H8.4L18.45,9,17,7.55,7,17.6ZM5,21V16.75L18.45,3.32a2,2,0,0,1,2.83,0l1.4,1.43a1.91,1.91,0,0,1,.58,1.4,1.91,1.91,0,0,1-.58,1.4L9.25,21ZM18.45,9,17,7.55Zm-12,3A5.31,5.31,0,0,0,4.9,8.1,5.31,5.31,0,0,0,1,6.5,5.31,5.31,0,0,0,4.9,4.9,5.31,5.31,0,0,0,6.5,1,5.31,5.31,0,0,0,8.1,4.9,5.31,5.31,0,0,0,12,6.5,5.46,5.46,0,0,0,6.5,12Z\"/>\n",
              "  </svg>\n",
              "    </button>\n",
              "    <script>\n",
              "      (() => {\n",
              "      const buttonEl =\n",
              "        document.querySelector('#id_8ae4d5e7-48ee-4ad8-98a9-0b7c557d007c button.colab-df-generate');\n",
              "      buttonEl.style.display =\n",
              "        google.colab.kernel.accessAllowed ? 'block' : 'none';\n",
              "\n",
              "      buttonEl.onclick = () => {\n",
              "        google.colab.notebook.generateWithVariable('df');\n",
              "      }\n",
              "      })();\n",
              "    </script>\n",
              "  </div>\n",
              "\n",
              "    </div>\n",
              "  </div>\n"
            ],
            "application/vnd.google.colaboratory.intrinsic+json": {
              "type": "dataframe",
              "variable_name": "df",
              "summary": "{\n  \"name\": \"df\",\n  \"rows\": 1,\n  \"fields\": [\n    {\n      \"column\": \"mimeType\",\n      \"properties\": {\n        \"dtype\": \"string\",\n        \"num_unique_values\": 1,\n        \"samples\": [\n          \"text/csv\"\n        ],\n        \"semantic_type\": \"\",\n        \"description\": \"\"\n      }\n    },\n    {\n      \"column\": \"id\",\n      \"properties\": {\n        \"dtype\": \"string\",\n        \"num_unique_values\": 1,\n        \"samples\": [\n          \"1a9Fbj_88-MOOR28AdtsE_sbaGbsQsRC1\"\n        ],\n        \"semantic_type\": \"\",\n        \"description\": \"\"\n      }\n    },\n    {\n      \"column\": \"name\",\n      \"properties\": {\n        \"dtype\": \"string\",\n        \"num_unique_values\": 1,\n        \"samples\": [\n          \"BETA - SUBJECT - 2024-09-15.CSV\"\n        ],\n        \"semantic_type\": \"\",\n        \"description\": \"\"\n      }\n    },\n    {\n      \"column\": \"type\",\n      \"properties\": {\n        \"dtype\": \"string\",\n        \"num_unique_values\": 1,\n        \"samples\": [\n          \"table\"\n        ],\n        \"semantic_type\": \"\",\n        \"description\": \"\"\n      }\n    },\n    {\n      \"column\": \"bib\",\n      \"properties\": {\n        \"dtype\": \"string\",\n        \"num_unique_values\": 1,\n        \"samples\": [\n          \"BETA\"\n        ],\n        \"semantic_type\": \"\",\n        \"description\": \"\"\n      }\n    },\n    {\n      \"column\": \"tab\",\n      \"properties\": {\n        \"dtype\": \"string\",\n        \"num_unique_values\": 1,\n        \"samples\": [\n          \"SUB\"\n        ],\n        \"semantic_type\": \"\",\n        \"description\": \"\"\n      }\n    }\n  ]\n}"
            }
          },
          "metadata": {},
          "execution_count": 45
        }
      ]
    },
    {
      "cell_type": "code",
      "source": [
        "cols = ['type', 'bib', 'tab', 'id', 'name']\n",
        "df = df[cols]\n",
        "df = df.sort_values(by=cols)"
      ],
      "metadata": {
        "id": "hfBaVrWe0BEv"
      },
      "execution_count": null,
      "outputs": []
    },
    {
      "cell_type": "code",
      "source": [
        "df\n"
      ],
      "metadata": {
        "colab": {
          "base_uri": "https://localhost:8080/",
          "height": 170
        },
        "id": "vNswR2kS0cV1",
        "outputId": "98005232-2440-408a-e017-6512ab40b55b"
      },
      "execution_count": null,
      "outputs": [
        {
          "output_type": "execute_result",
          "data": {
            "text/plain": [
              "    type   bib  tab                                 id  \\\n",
              "0  table  BETA  SUB  1a9Fbj_88-MOOR28AdtsE_sbaGbsQsRC1   \n",
              "\n",
              "                              name  \n",
              "0  BETA - SUBJECT - 2024-09-15.CSV  "
            ],
            "text/html": [
              "\n",
              "  <div id=\"df-30947416-8b36-4867-a612-dc64be51826f\" class=\"colab-df-container\">\n",
              "    <div>\n",
              "<style scoped>\n",
              "    .dataframe tbody tr th:only-of-type {\n",
              "        vertical-align: middle;\n",
              "    }\n",
              "\n",
              "    .dataframe tbody tr th {\n",
              "        vertical-align: top;\n",
              "    }\n",
              "\n",
              "    .dataframe thead th {\n",
              "        text-align: right;\n",
              "    }\n",
              "</style>\n",
              "<table border=\"1\" class=\"dataframe\">\n",
              "  <thead>\n",
              "    <tr style=\"text-align: right;\">\n",
              "      <th></th>\n",
              "      <th>type</th>\n",
              "      <th>bib</th>\n",
              "      <th>tab</th>\n",
              "      <th>id</th>\n",
              "      <th>name</th>\n",
              "    </tr>\n",
              "  </thead>\n",
              "  <tbody>\n",
              "    <tr>\n",
              "      <th>0</th>\n",
              "      <td>table</td>\n",
              "      <td>BETA</td>\n",
              "      <td>SUB</td>\n",
              "      <td>1a9Fbj_88-MOOR28AdtsE_sbaGbsQsRC1</td>\n",
              "      <td>BETA - SUBJECT - 2024-09-15.CSV</td>\n",
              "    </tr>\n",
              "  </tbody>\n",
              "</table>\n",
              "</div>\n",
              "    <div class=\"colab-df-buttons\">\n",
              "\n",
              "  <div class=\"colab-df-container\">\n",
              "    <button class=\"colab-df-convert\" onclick=\"convertToInteractive('df-30947416-8b36-4867-a612-dc64be51826f')\"\n",
              "            title=\"Convert this dataframe to an interactive table.\"\n",
              "            style=\"display:none;\">\n",
              "\n",
              "  <svg xmlns=\"http://www.w3.org/2000/svg\" height=\"24px\" viewBox=\"0 -960 960 960\">\n",
              "    <path d=\"M120-120v-720h720v720H120Zm60-500h600v-160H180v160Zm220 220h160v-160H400v160Zm0 220h160v-160H400v160ZM180-400h160v-160H180v160Zm440 0h160v-160H620v160ZM180-180h160v-160H180v160Zm440 0h160v-160H620v160Z\"/>\n",
              "  </svg>\n",
              "    </button>\n",
              "\n",
              "  <style>\n",
              "    .colab-df-container {\n",
              "      display:flex;\n",
              "      gap: 12px;\n",
              "    }\n",
              "\n",
              "    .colab-df-convert {\n",
              "      background-color: #E8F0FE;\n",
              "      border: none;\n",
              "      border-radius: 50%;\n",
              "      cursor: pointer;\n",
              "      display: none;\n",
              "      fill: #1967D2;\n",
              "      height: 32px;\n",
              "      padding: 0 0 0 0;\n",
              "      width: 32px;\n",
              "    }\n",
              "\n",
              "    .colab-df-convert:hover {\n",
              "      background-color: #E2EBFA;\n",
              "      box-shadow: 0px 1px 2px rgba(60, 64, 67, 0.3), 0px 1px 3px 1px rgba(60, 64, 67, 0.15);\n",
              "      fill: #174EA6;\n",
              "    }\n",
              "\n",
              "    .colab-df-buttons div {\n",
              "      margin-bottom: 4px;\n",
              "    }\n",
              "\n",
              "    [theme=dark] .colab-df-convert {\n",
              "      background-color: #3B4455;\n",
              "      fill: #D2E3FC;\n",
              "    }\n",
              "\n",
              "    [theme=dark] .colab-df-convert:hover {\n",
              "      background-color: #434B5C;\n",
              "      box-shadow: 0px 1px 3px 1px rgba(0, 0, 0, 0.15);\n",
              "      filter: drop-shadow(0px 1px 2px rgba(0, 0, 0, 0.3));\n",
              "      fill: #FFFFFF;\n",
              "    }\n",
              "  </style>\n",
              "\n",
              "    <script>\n",
              "      const buttonEl =\n",
              "        document.querySelector('#df-30947416-8b36-4867-a612-dc64be51826f button.colab-df-convert');\n",
              "      buttonEl.style.display =\n",
              "        google.colab.kernel.accessAllowed ? 'block' : 'none';\n",
              "\n",
              "      async function convertToInteractive(key) {\n",
              "        const element = document.querySelector('#df-30947416-8b36-4867-a612-dc64be51826f');\n",
              "        const dataTable =\n",
              "          await google.colab.kernel.invokeFunction('convertToInteractive',\n",
              "                                                    [key], {});\n",
              "        if (!dataTable) return;\n",
              "\n",
              "        const docLinkHtml = 'Like what you see? Visit the ' +\n",
              "          '<a target=\"_blank\" href=https://colab.research.google.com/notebooks/data_table.ipynb>data table notebook</a>'\n",
              "          + ' to learn more about interactive tables.';\n",
              "        element.innerHTML = '';\n",
              "        dataTable['output_type'] = 'display_data';\n",
              "        await google.colab.output.renderOutput(dataTable, element);\n",
              "        const docLink = document.createElement('div');\n",
              "        docLink.innerHTML = docLinkHtml;\n",
              "        element.appendChild(docLink);\n",
              "      }\n",
              "    </script>\n",
              "  </div>\n",
              "\n",
              "\n",
              "  <div id=\"id_858339e0-745c-45c9-9052-38e41e797071\">\n",
              "    <style>\n",
              "      .colab-df-generate {\n",
              "        background-color: #E8F0FE;\n",
              "        border: none;\n",
              "        border-radius: 50%;\n",
              "        cursor: pointer;\n",
              "        display: none;\n",
              "        fill: #1967D2;\n",
              "        height: 32px;\n",
              "        padding: 0 0 0 0;\n",
              "        width: 32px;\n",
              "      }\n",
              "\n",
              "      .colab-df-generate:hover {\n",
              "        background-color: #E2EBFA;\n",
              "        box-shadow: 0px 1px 2px rgba(60, 64, 67, 0.3), 0px 1px 3px 1px rgba(60, 64, 67, 0.15);\n",
              "        fill: #174EA6;\n",
              "      }\n",
              "\n",
              "      [theme=dark] .colab-df-generate {\n",
              "        background-color: #3B4455;\n",
              "        fill: #D2E3FC;\n",
              "      }\n",
              "\n",
              "      [theme=dark] .colab-df-generate:hover {\n",
              "        background-color: #434B5C;\n",
              "        box-shadow: 0px 1px 3px 1px rgba(0, 0, 0, 0.15);\n",
              "        filter: drop-shadow(0px 1px 2px rgba(0, 0, 0, 0.3));\n",
              "        fill: #FFFFFF;\n",
              "      }\n",
              "    </style>\n",
              "    <button class=\"colab-df-generate\" onclick=\"generateWithVariable('df')\"\n",
              "            title=\"Generate code using this dataframe.\"\n",
              "            style=\"display:none;\">\n",
              "\n",
              "  <svg xmlns=\"http://www.w3.org/2000/svg\" height=\"24px\"viewBox=\"0 0 24 24\"\n",
              "       width=\"24px\">\n",
              "    <path d=\"M7,19H8.4L18.45,9,17,7.55,7,17.6ZM5,21V16.75L18.45,3.32a2,2,0,0,1,2.83,0l1.4,1.43a1.91,1.91,0,0,1,.58,1.4,1.91,1.91,0,0,1-.58,1.4L9.25,21ZM18.45,9,17,7.55Zm-12,3A5.31,5.31,0,0,0,4.9,8.1,5.31,5.31,0,0,0,1,6.5,5.31,5.31,0,0,0,4.9,4.9,5.31,5.31,0,0,0,6.5,1,5.31,5.31,0,0,0,8.1,4.9,5.31,5.31,0,0,0,12,6.5,5.46,5.46,0,0,0,6.5,12Z\"/>\n",
              "  </svg>\n",
              "    </button>\n",
              "    <script>\n",
              "      (() => {\n",
              "      const buttonEl =\n",
              "        document.querySelector('#id_858339e0-745c-45c9-9052-38e41e797071 button.colab-df-generate');\n",
              "      buttonEl.style.display =\n",
              "        google.colab.kernel.accessAllowed ? 'block' : 'none';\n",
              "\n",
              "      buttonEl.onclick = () => {\n",
              "        google.colab.notebook.generateWithVariable('df');\n",
              "      }\n",
              "      })();\n",
              "    </script>\n",
              "  </div>\n",
              "\n",
              "    </div>\n",
              "  </div>\n"
            ],
            "application/vnd.google.colaboratory.intrinsic+json": {
              "type": "dataframe",
              "variable_name": "df",
              "summary": "{\n  \"name\": \"df\",\n  \"rows\": 1,\n  \"fields\": [\n    {\n      \"column\": \"type\",\n      \"properties\": {\n        \"dtype\": \"string\",\n        \"num_unique_values\": 1,\n        \"samples\": [\n          \"table\"\n        ],\n        \"semantic_type\": \"\",\n        \"description\": \"\"\n      }\n    },\n    {\n      \"column\": \"bib\",\n      \"properties\": {\n        \"dtype\": \"string\",\n        \"num_unique_values\": 1,\n        \"samples\": [\n          \"BETA\"\n        ],\n        \"semantic_type\": \"\",\n        \"description\": \"\"\n      }\n    },\n    {\n      \"column\": \"tab\",\n      \"properties\": {\n        \"dtype\": \"string\",\n        \"num_unique_values\": 1,\n        \"samples\": [\n          \"SUB\"\n        ],\n        \"semantic_type\": \"\",\n        \"description\": \"\"\n      }\n    },\n    {\n      \"column\": \"id\",\n      \"properties\": {\n        \"dtype\": \"string\",\n        \"num_unique_values\": 1,\n        \"samples\": [\n          \"1a9Fbj_88-MOOR28AdtsE_sbaGbsQsRC1\"\n        ],\n        \"semantic_type\": \"\",\n        \"description\": \"\"\n      }\n    },\n    {\n      \"column\": \"name\",\n      \"properties\": {\n        \"dtype\": \"string\",\n        \"num_unique_values\": 1,\n        \"samples\": [\n          \"BETA - SUBJECT - 2024-09-15.CSV\"\n        ],\n        \"semantic_type\": \"\",\n        \"description\": \"\"\n      }\n    }\n  ]\n}"
            }
          },
          "metadata": {},
          "execution_count": 47
        }
      ]
    },
    {
      "cell_type": "code",
      "source": [
        "print(df.to_csv(None, index=False))"
      ],
      "metadata": {
        "colab": {
          "base_uri": "https://localhost:8080/"
        },
        "id": "w5Ef7XLU1r_i",
        "outputId": "c437fd70-83b7-4795-d87c-4ec3d31cc2bd"
      },
      "execution_count": null,
      "outputs": [
        {
          "output_type": "stream",
          "name": "stdout",
          "text": [
            "type,bib,tab,id,name\n",
            "table,BETA,SUB,1a9Fbj_88-MOOR28AdtsE_sbaGbsQsRC1,BETA - SUBJECT - 2024-09-15.CSV\n",
            "\n"
          ]
        }
      ]
    },
    {
      "cell_type": "code",
      "source": [],
      "metadata": {
        "id": "evIHDkGF13We"
      },
      "execution_count": null,
      "outputs": []
    }
  ]
}